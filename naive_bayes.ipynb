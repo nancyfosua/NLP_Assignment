{
  "cells": [
    {
      "cell_type": "markdown",
      "metadata": {
        "id": "view-in-github",
        "colab_type": "text"
      },
      "source": [
        "<a href=\"https://colab.research.google.com/github/nancyfosua/NLP_Assignment/blob/main/naive_bayes.ipynb\" target=\"_parent\"><img src=\"https://colab.research.google.com/assets/colab-badge.svg\" alt=\"Open In Colab\"/></a>"
      ]
    },
    {
      "cell_type": "markdown",
      "metadata": {
        "id": "uA5yH5qePg-O"
      },
      "source": [
        "The goal of this lab is to implement a language identifier (LID).\n",
        "\n",
        "Our first model will be based on Naive Bayes."
      ]
    },
    {
      "cell_type": "code",
      "execution_count": 52,
      "metadata": {
        "id": "VSpnc8haPg-R"
      },
      "outputs": [],
      "source": [
        "import io, sys, math, re\n",
        "import numpy as np\n",
        "\n",
        "from collections import defaultdict"
      ]
    },
    {
      "cell_type": "markdown",
      "metadata": {
        "id": "ZrA5ns10Pg-R"
      },
      "source": [
        "The next function is used to load the data. Each line of the data consist of a label (corresponding to a language), followed by some text, written in that language. Here is an example of data:\n",
        "\n",
        "```__label__de Zur Namensdeutung gibt es mehrere Varianten.```\n"
      ]
    },
    {
      "cell_type": "code",
      "execution_count": 53,
      "metadata": {
        "id": "fR-S51ZcPg-S"
      },
      "outputs": [],
      "source": [
        "def load_data(filename):\n",
        "    fin = io.open(filename, 'r', encoding='utf-8')\n",
        "    data = []\n",
        "    for line in fin:\n",
        "        tokens = line.split()\n",
        "        data.append((tokens[0], tokens[1:]))\n",
        "    return data"
      ]
    },
    {
      "cell_type": "markdown",
      "metadata": {
        "id": "jr2UKipZPg-T"
      },
      "source": [
        "You can now try loading the first dataset `train1.txt` and look what examples look like."
      ]
    },
    {
      "cell_type": "code",
      "execution_count": 54,
      "metadata": {
        "id": "RvTuUQssPg-T",
        "colab": {
          "base_uri": "https://localhost:8080/"
        },
        "outputId": "1f7dcd97-ae7e-4a6d-83f3-c3743f08648d"
      },
      "outputs": [
        {
          "output_type": "stream",
          "name": "stdout",
          "text": [
            "('__label__de', ['Ich', 'würde', 'alles', 'tun,', 'um', 'dich', 'zu', 'beschützen.'])\n"
          ]
        }
      ],
      "source": [
        "data = load_data(\"/content/drive/MyDrive/Colab Notebooks/NLP/week1/train1.txt\")\n",
        "print(data[0])"
      ]
    },
    {
      "cell_type": "code",
      "source": [
        "# data"
      ],
      "metadata": {
        "id": "qKbZ4flvgZze"
      },
      "execution_count": 44,
      "outputs": []
    },
    {
      "cell_type": "code",
      "source": [
        "# word_counts = defaultdict(lambda: defaultdict(lambda: 0.0))\n",
        "# label, sentence = data[18]\n",
        "# for word in range(len(sentence)):\n",
        "#     word_counts[label][sentence[word]] += 1 \n",
        "# word_counts\n"
      ],
      "metadata": {
        "colab": {
          "base_uri": "https://localhost:8080/"
        },
        "id": "TQf23hCgr_DD",
        "outputId": "4c7fff00-2fea-4d6b-f72c-5d390bef19d0"
      },
      "execution_count": 40,
      "outputs": [
        {
          "output_type": "execute_result",
          "data": {
            "text/plain": [
              "defaultdict(<function __main__.<lambda>>,\n",
              "            {'__label__ru': defaultdict(<function __main__.<lambda>.<locals>.<lambda>>,\n",
              "                         {'Австралии.': 1.0,\n",
              "                          'Том': 1.0,\n",
              "                          'в': 1.0,\n",
              "                          'всю': 1.0,\n",
              "                          'говорит,': 1.0,\n",
              "                          'жизнь': 1.0,\n",
              "                          'прожил': 1.0,\n",
              "                          'что': 1.0})})"
            ]
          },
          "metadata": {},
          "execution_count": 40
        }
      ]
    },
    {
      "cell_type": "markdown",
      "metadata": {
        "id": "eO0UmrGCPg-U"
      },
      "source": [
        "Next, we will start implementing the Naive Bayes method. This technique is based on word counts, and we thus need to start by implementing a function to count the words and labels of our training set.\n",
        "\n",
        "`n_examples` is the total number of examples\n",
        "\n",
        "`n_words_per_label` is the total number of words for a given label\n",
        "\n",
        "`label_counts` is the number of times a given label appears in the training data\n",
        "\n",
        "`word_counts` is the number of times a word appears with a given label"
      ]
    },
    {
      "cell_type": "code",
      "execution_count": 55,
      "metadata": {
        "id": "kPrYA5mKPg-U"
      },
      "outputs": [],
      "source": [
        "def count_words(data):\n",
        "    n_examples = 0\n",
        "    n_words_per_label = defaultdict(lambda: 0)\n",
        "    label_counts = defaultdict(lambda: 0)\n",
        "    word_counts = defaultdict(lambda: defaultdict(lambda: 0.0))\n",
        "\n",
        "    for example in data:\n",
        "        label, sentence = example\n",
        "        ## FILL CODE\n",
        "        n_examples = len(data)\n",
        "        n_words_per_label[label]  +=  len(sentence)\n",
        "        label_counts[label] += 1\n",
        "\n",
        "        for word in sentence:\n",
        "          word_counts[label][word] += 1 \n",
        "\n",
        "\n",
        "\n",
        "        \n",
        "\n",
        "    return {'label_counts': label_counts, \n",
        "           'word_counts': word_counts, \n",
        "           'n_examples': n_examples, \n",
        "           'n_words_per_label': n_words_per_label}\n",
        "#count_words(data)           "
      ]
    },
    {
      "cell_type": "markdown",
      "metadata": {
        "id": "Vk1I-ocbPg-V"
      },
      "source": [
        "Next, using the word and label counts from the previous function, we can implement the prediction function.\n",
        "\n",
        "Here, `mu` is a regularization parameter (Laplace smoothing), and `sentence` is the list of words corresponding to the test example."
      ]
    },
    {
      "cell_type": "code",
      "execution_count": 56,
      "metadata": {
        "id": "FdNo_KO9Pg-V"
      },
      "outputs": [],
      "source": [
        "def predict(sentence, mu, label_counts, word_counts, n_examples, n_words_per_label):\n",
        "    best_label = None\n",
        "    best_score = float('-inf')\n",
        "\n",
        "    for label in word_counts.keys():\n",
        "        score = 0.0\n",
        "        ## FILE CODE\n",
        "        for word in sentence:\n",
        "          numerator = mu + word_counts[label][word] \n",
        "          denumerator = mu * len(word_counts[label]) + n_words_per_label[label]\n",
        "          score += np.log(numerator/denumerator)\n",
        "        if score > best_score:\n",
        "          best_score = score\n",
        "          best_label = label\n",
        "    return best_label"
      ]
    },
    {
      "cell_type": "markdown",
      "metadata": {
        "id": "tJuK3X_QPg-V"
      },
      "source": [
        "The next function will be used to evaluate the Naive Bayes model on a validation set. It computes the accuracy for a particular regularization parameter `mu`."
      ]
    },
    {
      "cell_type": "code",
      "execution_count": 60,
      "metadata": {
        "id": "6TU4u5ZJPg-W"
      },
      "outputs": [],
      "source": [
        "def compute_accuracy(valid_data, mu, counts):\n",
        "    accuracy = 0.0\n",
        "    for label, sentence in valid_data:\n",
        "        ## FILL CODE\n",
        "        pred = predict(sentence, mu, counts['label_counts'], counts['word_counts'], counts['n_examples'], counts['n_words_per_label'])\n",
        "        if pred == label:\n",
        "          accuracy +=  1\n",
        "        \n",
        "\n",
        "    return accuracy /len(valid_data)"
      ]
    },
    {
      "cell_type": "code",
      "execution_count": 61,
      "metadata": {
        "id": "UdfygVhTPg-X",
        "colab": {
          "base_uri": "https://localhost:8080/"
        },
        "outputId": "ebaf27a0-09c3-4646-cb87-d22dcb903c5b"
      },
      "outputs": [
        {
          "output_type": "stream",
          "name": "stdout",
          "text": [
            "\n",
            "** Naive Bayes **\n",
            "\n",
            "Validation accuracy: 0.915\n",
            "\n"
          ]
        }
      ],
      "source": [
        "print(\"\")\n",
        "print(\"** Naive Bayes **\")\n",
        "print(\"\")\n",
        "\n",
        "mu = 1.0\n",
        "train_data = load_data(\"/content/drive/MyDrive/Colab Notebooks/NLP/week1/train1.txt\")\n",
        "valid_data = load_data(\"/content/drive/MyDrive/Colab Notebooks/NLP/week1/valid1.txt\")\n",
        "counts = count_words(train_data)\n",
        "\n",
        "print(\"Validation accuracy: %.3f\" % compute_accuracy(valid_data, mu, counts))\n",
        "print(\"\")"
      ]
    },
    {
      "cell_type": "code",
      "execution_count": null,
      "metadata": {
        "id": "FKCxlnGWPg-X"
      },
      "outputs": [],
      "source": [
        ""
      ]
    }
  ],
  "metadata": {
    "kernelspec": {
      "display_name": "Python 3",
      "language": "python",
      "name": "python3"
    },
    "language_info": {
      "codemirror_mode": {
        "name": "ipython",
        "version": 3
      },
      "file_extension": ".py",
      "mimetype": "text/x-python",
      "name": "python",
      "nbconvert_exporter": "python",
      "pygments_lexer": "ipython3",
      "version": "3.6.2+"
    },
    "colab": {
      "name": " naive_bayes.ipynb",
      "provenance": [],
      "collapsed_sections": [],
      "include_colab_link": true
    }
  },
  "nbformat": 4,
  "nbformat_minor": 0
}